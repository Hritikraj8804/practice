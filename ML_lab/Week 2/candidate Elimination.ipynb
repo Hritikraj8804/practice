{
 "cells": [
  {
   "cell_type": "code",
   "execution_count": 1,
   "id": "52913ccc",
   "metadata": {},
   "outputs": [
    {
     "name": "stdout",
     "output_type": "stream",
     "text": [
      "     SKY  TEMP HUMIDITY    WIND WATER FORECAST ENJOY\n",
      "0  Sunny  Warm   Normal  Strong  Warm     Same   Yes\n",
      "1  Sunny  Warm     High  Strong  Warm     Same   Yes\n",
      "2  Rainy  Cold     High  Strong  Warm   Change    No\n",
      "3  Sunny  Warm     High  Strong  Cool   Change   Yes\n",
      "\n",
      "The attributes are: \n",
      "[['Sunny' 'Warm' 'Normal' 'Strong' 'Warm' 'Same']\n",
      " ['Sunny' 'Warm' 'High' 'Strong' 'Warm' 'Same']\n",
      " ['Rainy' 'Cold' 'High' 'Strong' 'Warm' 'Change']\n",
      " ['Sunny' 'Warm' 'High' 'Strong' 'Cool' 'Change']]\n",
      "\n",
      "The target values are: \n",
      "['Yes' 'Yes' 'No' 'Yes']\n",
      "\n",
      "Final specific hypothesis:  ['Sunny' 'Warm' '?' 'Strong' '?' '?']\n",
      "\n",
      "Final general hypotheses:  [['Sunny', '?', '?', '?', '?', '?'], ['?', 'Warm', '?', '?', '?', '?']]\n"
     ]
    }
   ],
   "source": [
    "# Import module\n",
    "import pandas as pd\n",
    "import numpy as np\n",
    "\n",
    "# Load dataset\n",
    "df = pd.read_csv(\"ws.csv\")\n",
    "print(df)\n",
    "print()\n",
    "\n",
    "# Split features\n",
    "attr = np.array(df)[:, :-1]\n",
    "print(\"The attributes are: \")\n",
    "print(attr)\n",
    "print()\n",
    "\n",
    "# Split target\n",
    "target = np.array(df)[:, -1]\n",
    "print(\"The target values are: \")\n",
    "print(target)\n",
    "print()\n",
    "\n",
    "def learn(attr, target):\n",
    "    s = attr[0].copy()  # Start with the first instance as specific hypothesis\n",
    "    g = [['?' for _ in range(len(s))] for _ in range(len(s))]  # General hypothesis\n",
    "\n",
    "    # Update the specific and general hypotheses\n",
    "    for i, h in enumerate(attr):\n",
    "        if target[i] == \"Yes\":\n",
    "            for x in range(len(s)):\n",
    "                if h[x] != s[x]:\n",
    "                    s[x] = '?'  # Generalize specific hypothesis\n",
    "                    g[x][x] = '?'  # Generalize corresponding general hypothesis\n",
    "        elif target[i] == \"No\":\n",
    "            for x in range(len(s)):\n",
    "                if h[x] != s[x]:\n",
    "                    g[x][x] = s[x]  # Specialize general hypothesis\n",
    "                else:\n",
    "                    g[x][x] = '?'  # Retain '?' for non-matching features\n",
    "\n",
    "    # Remove redundant hypotheses from general hypothesis set\n",
    "    g = [hypo for hypo in g if hypo != ['?' for _ in range(len(s))]]\n",
    "\n",
    "    return s, g\n",
    "\n",
    "# Learn the hypotheses\n",
    "s_f, g_f = learn(attr, target)\n",
    "\n",
    "# Print results\n",
    "print(\"Final specific hypothesis: \", s_f)\n",
    "print()\n",
    "print(\"Final general hypotheses: \", g_f)\n"
   ]
  },
  {
   "cell_type": "code",
   "execution_count": null,
   "id": "f2f31d76",
   "metadata": {},
   "outputs": [],
   "source": []
  }
 ],
 "metadata": {
  "kernelspec": {
   "display_name": "Python 3 (ipykernel)",
   "language": "python",
   "name": "python3"
  },
  "language_info": {
   "codemirror_mode": {
    "name": "ipython",
    "version": 3
   },
   "file_extension": ".py",
   "mimetype": "text/x-python",
   "name": "python",
   "nbconvert_exporter": "python",
   "pygments_lexer": "ipython3",
   "version": "3.11.5"
  }
 },
 "nbformat": 4,
 "nbformat_minor": 5
}

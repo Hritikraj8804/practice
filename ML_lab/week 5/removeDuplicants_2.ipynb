{
 "cells": [
  {
   "cell_type": "code",
   "execution_count": 2,
   "id": "ee17c1d7",
   "metadata": {},
   "outputs": [
    {
     "name": "stdout",
     "output_type": "stream",
     "text": [
      "Collecting mlxtend\n",
      "  Downloading mlxtend-0.23.4-py3-none-any.whl (1.4 MB)\n",
      "     ---------------------------------------- 1.4/1.4 MB 170.8 kB/s eta 0:00:00\n",
      "Requirement already satisfied: pandas>=0.24.2 in c:\\users\\hriti\\anaconda3\\lib\\site-packages (from mlxtend) (1.5.3)\n",
      "Requirement already satisfied: matplotlib>=3.0.0 in c:\\users\\hriti\\anaconda3\\lib\\site-packages (from mlxtend) (3.7.0)\n",
      "Requirement already satisfied: numpy>=1.16.2 in c:\\users\\hriti\\anaconda3\\lib\\site-packages (from mlxtend) (1.23.5)\n",
      "Requirement already satisfied: joblib>=0.13.2 in c:\\users\\hriti\\anaconda3\\lib\\site-packages (from mlxtend) (1.1.1)\n",
      "Collecting scikit-learn>=1.3.1\n",
      "  Downloading scikit_learn-1.6.1-cp310-cp310-win_amd64.whl (11.1 MB)\n",
      "     -------------------------------------- 11.1/11.1 MB 148.0 kB/s eta 0:00:00\n",
      "Requirement already satisfied: scipy>=1.2.1 in c:\\users\\hriti\\anaconda3\\lib\\site-packages (from mlxtend) (1.10.0)\n",
      "Requirement already satisfied: contourpy>=1.0.1 in c:\\users\\hriti\\anaconda3\\lib\\site-packages (from matplotlib>=3.0.0->mlxtend) (1.0.5)\n",
      "Requirement already satisfied: kiwisolver>=1.0.1 in c:\\users\\hriti\\anaconda3\\lib\\site-packages (from matplotlib>=3.0.0->mlxtend) (1.4.4)\n",
      "Requirement already satisfied: python-dateutil>=2.7 in c:\\users\\hriti\\anaconda3\\lib\\site-packages (from matplotlib>=3.0.0->mlxtend) (2.8.2)\n",
      "Requirement already satisfied: cycler>=0.10 in c:\\users\\hriti\\anaconda3\\lib\\site-packages (from matplotlib>=3.0.0->mlxtend) (0.11.0)\n",
      "Requirement already satisfied: pyparsing>=2.3.1 in c:\\users\\hriti\\anaconda3\\lib\\site-packages (from matplotlib>=3.0.0->mlxtend) (3.0.9)\n",
      "Requirement already satisfied: packaging>=20.0 in c:\\users\\hriti\\anaconda3\\lib\\site-packages (from matplotlib>=3.0.0->mlxtend) (22.0)\n",
      "Requirement already satisfied: pillow>=6.2.0 in c:\\users\\hriti\\anaconda3\\lib\\site-packages (from matplotlib>=3.0.0->mlxtend) (9.4.0)\n",
      "Requirement already satisfied: fonttools>=4.22.0 in c:\\users\\hriti\\anaconda3\\lib\\site-packages (from matplotlib>=3.0.0->mlxtend) (4.25.0)\n",
      "Requirement already satisfied: pytz>=2020.1 in c:\\users\\hriti\\anaconda3\\lib\\site-packages (from pandas>=0.24.2->mlxtend) (2022.7)\n",
      "Collecting threadpoolctl>=3.1.0\n",
      "  Downloading threadpoolctl-3.5.0-py3-none-any.whl (18 kB)\n",
      "Collecting joblib>=0.13.2\n",
      "  Downloading joblib-1.4.2-py3-none-any.whl (301 kB)\n",
      "     ------------------------------------ 301.8/301.8 kB 209.6 kB/s eta 0:00:00\n",
      "Requirement already satisfied: six>=1.5 in c:\\users\\hriti\\anaconda3\\lib\\site-packages (from python-dateutil>=2.7->matplotlib>=3.0.0->mlxtend) (1.16.0)\n",
      "Installing collected packages: threadpoolctl, joblib, scikit-learn, mlxtend\n",
      "  Attempting uninstall: threadpoolctl\n",
      "    Found existing installation: threadpoolctl 2.2.0\n",
      "    Uninstalling threadpoolctl-2.2.0:\n",
      "      Successfully uninstalled threadpoolctl-2.2.0\n",
      "  Attempting uninstall: joblib\n",
      "    Found existing installation: joblib 1.1.1\n",
      "    Uninstalling joblib-1.1.1:\n",
      "      Successfully uninstalled joblib-1.1.1\n",
      "  Attempting uninstall: scikit-learn\n",
      "    Found existing installation: scikit-learn 1.2.1\n",
      "    Uninstalling scikit-learn-1.2.1:\n",
      "      Successfully uninstalled scikit-learn-1.2.1\n",
      "Successfully installed joblib-1.4.2 mlxtend-0.23.4 scikit-learn-1.6.1 threadpoolctl-3.5.0\n",
      "Note: you may need to restart the kernel to use updated packages.\n"
     ]
    }
   ],
   "source": [
    "pip install mlxtend"
   ]
  },
  {
   "cell_type": "code",
   "execution_count": 1,
   "id": "b9d6948e",
   "metadata": {},
   "outputs": [
    {
     "name": "stdout",
     "output_type": "stream",
     "text": [
      "Original Iris DataFrame:\n",
      "     Speal_Lenngth  Speal_Width  Petal_length  Petal_Width  Species\n",
      "0              5.1          3.5           1.4          0.2        0\n",
      "1              4.9          3.0           1.4          0.2        0\n",
      "2              4.7          3.2           1.3          0.2        0\n",
      "3              4.6          3.1           1.5          0.2        0\n",
      "4              5.0          3.6           1.4          0.2        0\n",
      "..             ...          ...           ...          ...      ...\n",
      "145            6.7          3.0           5.2          2.3        2\n",
      "146            6.3          2.5           5.0          1.9        2\n",
      "147            6.5          3.0           5.2          2.0        2\n",
      "148            6.2          3.4           5.4          2.3        2\n",
      "149            5.9          3.0           5.1          1.8        2\n",
      "\n",
      "[150 rows x 5 columns]\n",
      "\n",
      "Total records in original DataFrame:150\n",
      "\n",
      "Iris DataaFrame after removing uplicates:\n",
      "     Speal_Lenngth  Speal_Width  Petal_length  Petal_Width  Species\n",
      "0              5.1          3.5           1.4          0.2        0\n",
      "1              4.9          3.0           1.4          0.2        0\n",
      "2              4.7          3.2           1.3          0.2        0\n",
      "3              4.6          3.1           1.5          0.2        0\n",
      "4              5.0          3.6           1.4          0.2        0\n",
      "..             ...          ...           ...          ...      ...\n",
      "145            6.7          3.0           5.2          2.3        2\n",
      "146            6.3          2.5           5.0          1.9        2\n",
      "147            6.5          3.0           5.2          2.0        2\n",
      "148            6.2          3.4           5.4          2.3        2\n",
      "149            5.9          3.0           5.1          1.8        2\n",
      "\n",
      "[147 rows x 5 columns]\n",
      "\n",
      "Total records after removing duplicates:147\n"
     ]
    }
   ],
   "source": [
    "import pandas as pd\n",
    "from mlxtend.data import iris_data\n",
    "#Load the Iris dataset\n",
    "X,y = iris_data()\n",
    "#Combine X (features) and y (target) into a single DataFrame\n",
    "df_iris = pd.DataFrame(X, columns=[\"Speal_Lenngth\",\"Speal_Width\",\"Petal_length\",\"Petal_Width\"])\n",
    "df_iris[\"Species\"] = y\n",
    "#print te original DataFrame\n",
    "print(\"Original Iris DataFrame:\")\n",
    "print(df_iris)\n",
    "#print thhetotal number of records in the original DataFrame\n",
    "print(f\"\\nTotal records in original DataFrame:{len(df_iris)}\")\n",
    "#Remove duplicates and display the result\n",
    "df_iris_no_duplicates = df_iris.drop_duplicates()\n",
    "#print the Iris DataFrame after removing duplicate\n",
    "print(\"\\nIris DataaFrame after removing uplicates:\")\n",
    "print(df_iris_no_duplicates)\n",
    "#print the total number of records after removing duplicates\n",
    "print(f\"\\nTotal records after removing duplicates:{len(df_iris_no_duplicates)}\")"
   ]
  },
  {
   "cell_type": "code",
   "execution_count": null,
   "id": "0ff8a1b0",
   "metadata": {},
   "outputs": [],
   "source": []
  }
 ],
 "metadata": {
  "kernelspec": {
   "display_name": "Python 3 (ipykernel)",
   "language": "python",
   "name": "python3"
  },
  "language_info": {
   "codemirror_mode": {
    "name": "ipython",
    "version": 3
   },
   "file_extension": ".py",
   "mimetype": "text/x-python",
   "name": "python",
   "nbconvert_exporter": "python",
   "pygments_lexer": "ipython3",
   "version": "3.10.9"
  }
 },
 "nbformat": 4,
 "nbformat_minor": 5
}

{
 "cells": [
  {
   "cell_type": "code",
   "execution_count": 6,
   "id": "f000a1be",
   "metadata": {},
   "outputs": [
    {
     "name": "stdout",
     "output_type": "stream",
     "text": [
      "[1.   1.   0.88 0.92 0.88 0.8 ]\n",
      "0.9133333333333332\n",
      "6\n"
     ]
    }
   ],
   "source": [
    "from mlxtend.data import iris_data\n",
    "from sklearn.tree import DecisionTreeClassifier\n",
    "from sklearn.model_selection import KFold,cross_val_score\n",
    "\n",
    "X,y = iris_data()\n",
    "clsfr = DecisionTreeClassifier(random_state =0)\n",
    "k_folds = KFold(n_splits = 6)\n",
    "scores = cross_val_score(clsfr,X,y, cv = k_folds)\n",
    "print(scores)\n",
    "print(scores.mean())\n",
    "print(len(scores));"
   ]
  },
  {
   "cell_type": "code",
   "execution_count": null,
   "id": "445da138",
   "metadata": {},
   "outputs": [],
   "source": []
  }
 ],
 "metadata": {
  "kernelspec": {
   "display_name": "Python 3 (ipykernel)",
   "language": "python",
   "name": "python3"
  },
  "language_info": {
   "codemirror_mode": {
    "name": "ipython",
    "version": 3
   },
   "file_extension": ".py",
   "mimetype": "text/x-python",
   "name": "python",
   "nbconvert_exporter": "python",
   "pygments_lexer": "ipython3",
   "version": "3.11.5"
  }
 },
 "nbformat": 4,
 "nbformat_minor": 5
}

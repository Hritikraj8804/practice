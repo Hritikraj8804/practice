{
 "cells": [
  {
   "cell_type": "code",
   "execution_count": 18,
   "id": "9cea3bc5",
   "metadata": {},
   "outputs": [
    {
     "name": "stdout",
     "output_type": "stream",
     "text": [
      "     SKY  TEMP HUMIDITY    WIND WATER FORECAST ENJOY\n",
      "0  Sunny  Warm   Normal  Strong  Warm     Same   Yes\n",
      "1  Sunny  Warm     High  Strong  Warm     Same   Yes\n",
      "2  Rainy  Cold     High  Strong  Warm   Change    No\n",
      "3  Sunny  Warm     High  Strong  Cool   Change   Yes\n"
     ]
    }
   ],
   "source": [
    "# import module\n",
    "import pandas as pd\n",
    "import numpy as np\n",
    "\n",
    "# load dataset\n",
    "df = pd.read_csv(\"ws.csv\")\n",
    "print(df)"
   ]
  },
  {
   "cell_type": "code",
   "execution_count": 14,
   "id": "0f5a0825",
   "metadata": {},
   "outputs": [
    {
     "name": "stdout",
     "output_type": "stream",
     "text": [
      "The attribute are: \n",
      "[['Sunny' 'Warm' 'Normal' 'Strong' 'Warm' 'Same']\n",
      " ['Sunny' 'Warm' 'High' 'Strong' 'Warm' 'Same']\n",
      " ['Rainy' 'Cold' 'High' 'Strong' 'Warm' 'Change']\n",
      " ['Sunny' 'Warm' 'High' 'Strong' 'Cool' 'Change']]\n"
     ]
    }
   ],
   "source": [
    "# split features\n",
    "attr = np.array(df)[:,:-1]\n",
    "print(\"The attribute are: \")\n",
    "print(attr)"
   ]
  },
  {
   "cell_type": "code",
   "execution_count": 15,
   "id": "ce49129e",
   "metadata": {},
   "outputs": [
    {
     "name": "stdout",
     "output_type": "stream",
     "text": [
      "The target are: \n",
      "['Yes' 'Yes' 'No' 'Yes']\n"
     ]
    }
   ],
   "source": [
    "# split target\n",
    "target = np.array(df)[:,-1]\n",
    "print(\"The target are: \")\n",
    "print(target)"
   ]
  },
  {
   "cell_type": "code",
   "execution_count": 19,
   "id": "ca0492a4",
   "metadata": {},
   "outputs": [
    {
     "name": "stdout",
     "output_type": "stream",
     "text": [
      "['Sunny' 'Warm' '?' 'Strong' '?' '?']\n"
     ]
    }
   ],
   "source": [
    "# copy the 1st +ve row in specific hypo\n",
    "for i, val in enumerate(target):\n",
    "    if val == \"Yes\":\n",
    "        hypo = attr[i].copy()\n",
    "        break\n",
    "\n",
    "# update the specific hypo       \n",
    "for i, val in enumerate(attr):\n",
    "    if target[i] == \"Yes\":\n",
    "        for x in range(len(hypo)):\n",
    "            if val[x] != hypo[x]:\n",
    "                hypo[x] = '?'\n",
    "print(hypo)"
   ]
  },
  {
   "cell_type": "code",
   "execution_count": null,
   "id": "09dff0f5",
   "metadata": {},
   "outputs": [],
   "source": []
  }
 ],
 "metadata": {
  "kernelspec": {
   "display_name": "Python 3 (ipykernel)",
   "language": "python",
   "name": "python3"
  },
  "language_info": {
   "codemirror_mode": {
    "name": "ipython",
    "version": 3
   },
   "file_extension": ".py",
   "mimetype": "text/x-python",
   "name": "python",
   "nbconvert_exporter": "python",
   "pygments_lexer": "ipython3",
   "version": "3.11.5"
  }
 },
 "nbformat": 4,
 "nbformat_minor": 5
}
